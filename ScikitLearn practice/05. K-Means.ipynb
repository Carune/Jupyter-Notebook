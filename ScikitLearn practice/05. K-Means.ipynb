{
 "cells": [
  {
   "cell_type": "markdown",
   "id": "f65b5741",
   "metadata": {},
   "source": [
    "# 5. K-Means"
   ]
  },
  {
   "cell_type": "code",
   "execution_count": 1,
   "id": "b63912d5",
   "metadata": {},
   "outputs": [],
   "source": [
    "import os\n",
    "os.environ['OMP_NUM_THREADS'] = '1'"
   ]
  },
  {
   "cell_type": "code",
   "execution_count": 2,
   "id": "124fea4a",
   "metadata": {},
   "outputs": [],
   "source": [
    "import numpy as np\n",
    "import matplotlib.pyplot as plt\n",
    "import pandas as pd"
   ]
  },
  {
   "cell_type": "code",
   "execution_count": 3,
   "id": "4f8e35a6",
   "metadata": {},
   "outputs": [
    {
     "data": {
      "text/html": [
       "<div>\n",
       "<style scoped>\n",
       "    .dataframe tbody tr th:only-of-type {\n",
       "        vertical-align: middle;\n",
       "    }\n",
       "\n",
       "    .dataframe tbody tr th {\n",
       "        vertical-align: top;\n",
       "    }\n",
       "\n",
       "    .dataframe thead th {\n",
       "        text-align: right;\n",
       "    }\n",
       "</style>\n",
       "<table border=\"1\" class=\"dataframe\">\n",
       "  <thead>\n",
       "    <tr style=\"text-align: right;\">\n",
       "      <th></th>\n",
       "      <th>hour</th>\n",
       "      <th>score</th>\n",
       "    </tr>\n",
       "  </thead>\n",
       "  <tbody>\n",
       "    <tr>\n",
       "      <th>0</th>\n",
       "      <td>7.33</td>\n",
       "      <td>73</td>\n",
       "    </tr>\n",
       "    <tr>\n",
       "      <th>1</th>\n",
       "      <td>3.71</td>\n",
       "      <td>55</td>\n",
       "    </tr>\n",
       "    <tr>\n",
       "      <th>2</th>\n",
       "      <td>3.43</td>\n",
       "      <td>55</td>\n",
       "    </tr>\n",
       "    <tr>\n",
       "      <th>3</th>\n",
       "      <td>3.06</td>\n",
       "      <td>89</td>\n",
       "    </tr>\n",
       "    <tr>\n",
       "      <th>4</th>\n",
       "      <td>3.33</td>\n",
       "      <td>79</td>\n",
       "    </tr>\n",
       "  </tbody>\n",
       "</table>\n",
       "</div>"
      ],
      "text/plain": [
       "   hour  score\n",
       "0  7.33     73\n",
       "1  3.71     55\n",
       "2  3.43     55\n",
       "3  3.06     89\n",
       "4  3.33     79"
      ]
     },
     "execution_count": 3,
     "metadata": {},
     "output_type": "execute_result"
    }
   ],
   "source": [
    "dataset = pd.read_csv('KMeansData.csv')\n",
    "dataset[:5]"
   ]
  },
  {
   "cell_type": "code",
   "execution_count": 4,
   "id": "7d1cdaed",
   "metadata": {},
   "outputs": [
    {
     "data": {
      "text/plain": [
       "array([[ 7.33, 73.  ],\n",
       "       [ 3.71, 55.  ],\n",
       "       [ 3.43, 55.  ],\n",
       "       [ 3.06, 89.  ],\n",
       "       [ 3.33, 79.  ]])"
      ]
     },
     "execution_count": 4,
     "metadata": {},
     "output_type": "execute_result"
    }
   ],
   "source": [
    "X = dataset.iloc[:, :].values\n",
    "# X = dataset.values\n",
    "# X = dataset.to_numpy() # 공식 홈페이지 권장\n",
    "X[:5]"
   ]
  },
  {
   "cell_type": "markdown",
   "id": "b9581892",
   "metadata": {},
   "source": [
    "### 데이터 시각화 (전체 데이터 분포 확인)"
   ]
  },
  {
   "cell_type": "code",
   "execution_count": 5,
   "id": "0332ee23",
   "metadata": {},
   "outputs": [
    {
     "data": {
      "image/png": "[encoded data removed]",
      "text/plain": [
       "<Figure size 432x288 with 1 Axes>"
      ]
     },
     "metadata": {
      "needs_background": "light"
     },
     "output_type": "display_data"
    }
   ],
   "source": [
    "plt.scatter(X[:, 0], X[:, 1]) # X축 : hour, Y축 : score\n",
    "plt.title('Score by hours')\n",
    "plt.xlabel('hours')\n",
    "plt.ylabel('scrore')\n",
    "plt.show()"
   ]
  },
  {
   "cell_type": "markdown",
   "id": "003cf477",
   "metadata": {},
   "source": [
    "### 데이터 시각화 (축 범위 통일)"
   ]
  },
  {
   "cell_type": "code",
   "execution_count": 6,
   "id": "f0fb86f9",
   "metadata": {},
   "outputs": [
    {
     "data": {
      "image/png": "[encoded data removed]",
      "text/plain": [
       "<Figure size 432x288 with 1 Axes>"
      ]
     },
     "metadata": {
      "needs_background": "light"
     },
     "output_type": "display_data"
    }
   ],
   "source": [
    "plt.scatter(X[:, 0], X[:, 1]) # X축 : hour, Y축 : score\n",
    "plt.title('Score by hours')\n",
    "plt.xlabel('hours')\n",
    "plt.xlim(0, 100)\n",
    "plt.ylabel('scrore')\n",
    "plt.ylim(0, 100)\n",
    "plt.show()"
   ]
  },
  {
   "cell_type": "markdown",
   "id": "342dcbe0",
   "metadata": {},
   "source": [
    "### 피처 스케일링 (Feature Scaling)"
   ]
  },
  {
   "cell_type": "code",
   "execution_count": 7,
   "id": "624160e7",
   "metadata": {},
   "outputs": [
    {
     "data": {
      "text/plain": [
       "array([[ 0.68729921,  0.73538376],\n",
       "       [-0.66687438,  0.04198891],\n",
       "       [-0.77161709,  0.04198891],\n",
       "       [-0.9100271 ,  1.35173473],\n",
       "       [-0.8090252 ,  0.96651537]])"
      ]
     },
     "execution_count": 7,
     "metadata": {},
     "output_type": "execute_result"
    }
   ],
   "source": [
    "from sklearn.preprocessing import StandardScaler\n",
    "sc = StandardScaler()\n",
    "X = sc.fit_transform(X)\n",
    "X[:5]"
   ]
  },
  {
   "cell_type": "markdown",
   "id": "b0d240f8",
   "metadata": {},
   "source": [
    "### 데이터 시각화 (스케일링된 데이터)"
   ]
  },
  {
   "cell_type": "code",
   "execution_count": 8,
   "id": "2fb19066",
   "metadata": {},
   "outputs": [
    {
     "data": {
      "image/png": "[encoded data removed]",
      "text/plain": [
       "<Figure size 360x360 with 1 Axes>"
      ]
     },
     "metadata": {
      "needs_background": "light"
     },
     "output_type": "display_data"
    }
   ],
   "source": [
    "plt.figure(figsize=(5,5))\n",
    "plt.scatter(X[:, 0], X[:, 1])\n",
    "plt.title('Score by hours')\n",
    "plt.xlabel('hours')\n",
    "plt.ylabel('scrore')\n",
    "plt.show()"
   ]
  },
  {
   "cell_type": "markdown",
   "id": "1718eae0",
   "metadata": {},
   "source": [
    "### 최적의 K 값 찾기 (엘보우 방식 Elbos Method)"
   ]
  },
  {
   "cell_type": "code",
   "execution_count": 9,
   "id": "ea378184",
   "metadata": {
    "scrolled": true
   },
   "outputs": [
    {
     "data": {
      "image/png": "[encoded data removed]",
      "text/plain": [
       "<Figure size 432x288 with 1 Axes>"
      ]
     },
     "metadata": {
      "needs_background": "light"
     },
     "output_type": "display_data"
    }
   ],
   "source": [
    "from sklearn.cluster import KMeans\n",
    "inertia_list = []\n",
    "for i in range(1, 11) :\n",
    "    kmeans = KMeans(n_clusters=i, init='k-means++', random_state=0)\n",
    "    kmeans.fit(X)\n",
    "    inertia_list.append(kmeans.inertia_) # 각 지점으로부터 클러스터의 중심까지의 거리의 제곱의 합\n",
    "\n",
    "plt.plot(range(1, 11), inertia_list)\n",
    "plt.title('Elbow Method')\n",
    "plt.xlabel('n_clusters')\n",
    "plt.ylabel('inertia')\n",
    "plt.show()"
   ]
  },
  {
   "cell_type": "markdown",
   "id": "64ae94ee",
   "metadata": {},
   "source": [
    "### 최적의 K (4) 값으로 KMeans 학습"
   ]
  },
  {
   "cell_type": "code",
   "execution_count": 10,
   "id": "af121030",
   "metadata": {},
   "outputs": [],
   "source": [
    "K = 4 # 최적의 K 값"
   ]
  },
  {
   "cell_type": "code",
   "execution_count": 12,
   "id": "ad857254",
   "metadata": {},
   "outputs": [],
   "source": [
    "kmeans = KMeans(n_clusters = K, random_state=0)\n",
    "# kmeans.fit(X)\n",
    "y_kmeans = kmeans.fit_predict(X)"
   ]
  },
  {
   "cell_type": "code",
   "execution_count": 13,
   "id": "16edf768",
   "metadata": {},
   "outputs": [
    {
     "data": {
      "text/plain": [
       "array([2, 3, 3, 0, 0, 1, 1, 0, 2, 0, 0, 3, 1, 3, 3, 0, 1, 2, 3, 0, 1, 0,\n",
       "       3, 1, 2, 2, 3, 3, 3, 3, 1, 1, 3, 0, 2, 2, 3, 0, 0, 0, 3, 1, 2, 3,\n",
       "       3, 2, 1, 0, 1, 1, 2, 0, 1, 1, 0, 0, 0, 0, 3, 1, 1, 2, 2, 2, 2, 1,\n",
       "       1, 0, 1, 2, 3, 2, 2, 2, 3, 3, 3, 3, 0, 2, 1, 2, 1, 1, 2, 0, 3, 1,\n",
       "       2, 3, 0, 1, 0, 2, 3, 2, 2, 0, 1, 3])"
      ]
     },
     "execution_count": 13,
     "metadata": {},
     "output_type": "execute_result"
    }
   ],
   "source": [
    "y_kmeans"
   ]
  },
  {
   "cell_type": "markdown",
   "id": "4fed48bb",
   "metadata": {},
   "source": [
    "### 데이터 시각화 (최적의 K)"
   ]
  },
  {
   "cell_type": "code",
   "execution_count": 16,
   "id": "6b604a29",
   "metadata": {},
   "outputs": [
    {
     "data": {
      "text/plain": [
       "array([[-0.57163957,  0.85415973],\n",
       "       [ 0.8837666 , -1.26929779],\n",
       "       [ 0.94107583,  0.93569782],\n",
       "       [-1.22698889, -0.46768593]])"
      ]
     },
     "execution_count": 16,
     "metadata": {},
     "output_type": "execute_result"
    }
   ],
   "source": [
    "centers = kmeans.cluster_centers_ # 클러스터의 중심점 (centroid) 좌표\n",
    "centers"
   ]
  },
  {
   "cell_type": "code",
   "execution_count": 18,
   "id": "4ca94065",
   "metadata": {},
   "outputs": [
    {
     "data": {
      "image/png": "[encoded data removed]",
      "text/plain": [
       "<Figure size 432x288 with 1 Axes>"
      ]
     },
     "metadata": {
      "needs_background": "light"
     },
     "output_type": "display_data"
    }
   ],
   "source": [
    "for cluster in range(K) :\n",
    "    plt.scatter(X[y_kmeans == cluster, 0], X[y_kmeans == cluster, 1], s=100, edgecolor='black')\n",
    "    plt.scatter(centers[cluster, 0], centers[cluster, 1], s=300, edgecolor='black', color='yellow', marker='s')\n",
    "    plt.text(centers[cluster, 0], centers[cluster, 1], cluster, va='center', ha='center')\n",
    "    \n",
    "plt.title('Score by hours')\n",
    "plt.xlabel('hours')\n",
    "plt.ylabel('score')\n",
    "plt.show()"
   ]
  },
  {
   "cell_type": "markdown",
   "id": "f32d5de1",
   "metadata": {},
   "source": [
    "### 데이터 시각화 (스케일링 원복)"
   ]
  },
  {
   "cell_type": "code",
   "execution_count": 19,
   "id": "1a5da8af",
   "metadata": {},
   "outputs": [
    {
     "data": {
      "text/plain": [
       "array([[ 7.33, 73.  ],\n",
       "       [ 3.71, 55.  ],\n",
       "       [ 3.43, 55.  ],\n",
       "       [ 3.06, 89.  ],\n",
       "       [ 3.33, 79.  ]])"
      ]
     },
     "execution_count": 19,
     "metadata": {},
     "output_type": "execute_result"
    }
   ],
   "source": [
    "X_org = sc.inverse_transform(X) # Feature Scaling 된 데이터를 다시 원복\n",
    "X_org[:5]"
   ]
  },
  {
   "cell_type": "code",
   "execution_count": 20,
   "id": "9e821056",
   "metadata": {},
   "outputs": [
    {
     "data": {
      "text/plain": [
       "array([[ 3.96458333, 76.08333333],\n",
       "       [ 7.8552    , 20.96      ],\n",
       "       [ 8.0084    , 78.2       ],\n",
       "       [ 2.21269231, 41.76923077]])"
      ]
     },
     "execution_count": 20,
     "metadata": {},
     "output_type": "execute_result"
    }
   ],
   "source": [
    "centers_org = sc.inverse_transform(centers)\n",
    "centers_org"
   ]
  },
  {
   "cell_type": "code",
   "execution_count": 21,
   "id": "afe916ad",
   "metadata": {},
   "outputs": [
    {
     "data": {
      "image/png": "[encoded data removed]",
      "text/plain": [
       "<Figure size 432x288 with 1 Axes>"
      ]
     },
     "metadata": {
      "needs_background": "light"
     },
     "output_type": "display_data"
    }
   ],
   "source": [
    "for cluster in range(K) :\n",
    "    plt.scatter(X_org[y_kmeans == cluster, 0], X_org[y_kmeans == cluster, 1], s=100, edgecolor='black')\n",
    "    plt.scatter(centers_org[cluster, 0], centers_org[cluster, 1], s=300, edgecolor='black', color='yellow', marker='s')\n",
    "    plt.text(centers_org[cluster, 0], centers_org[cluster, 1], cluster, va='center', ha='center')\n",
    "    \n",
    "plt.title('Score by hours')\n",
    "plt.xlabel('hours')\n",
    "plt.ylabel('score')\n",
    "plt.show()"
   ]
  }
 ],
 "metadata": {
  "kernelspec": {
   "display_name": "Python 3 (ipykernel)",
   "language": "python",
   "name": "python3"
  },
  "language_info": {
   "codemirror_mode": {
    "name": "ipython",
    "version": 3
   },
   "file_extension": ".py",
   "mimetype": "text/x-python",
   "name": "python",
   "nbconvert_exporter": "python",
   "pygments_lexer": "ipython3",
   "version": "3.9.12"
  }
 },
 "nbformat": 4,
 "nbformat_minor": 5
}
